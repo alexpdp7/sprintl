{
 "cells": [
  {
   "cell_type": "code",
   "execution_count": null,
   "metadata": {},
   "outputs": [],
   "source": [
    "input_dir = input()"
   ]
  },
  {
   "cell_type": "code",
   "execution_count": null,
   "metadata": {},
   "outputs": [],
   "source": [
    "state_colors = {\n",
    "    'In Progress':          '#00ff00',\n",
    "    'Awaiting code review': '#0000ff',\n",
    "    'Ready to complete':    '#00aa00',\n",
    "    'Blocked - Internal':   '#ffff00',\n",
    "    'Blocked - External':   '#ff0000',\n",
    "}"
   ]
  },
  {
   "cell_type": "code",
   "execution_count": null,
   "metadata": {},
   "outputs": [],
   "source": [
    "import sprintl\n",
    "\n",
    "issues = sprintl.load(input_dir)"
   ]
  },
  {
   "cell_type": "code",
   "execution_count": null,
   "metadata": {},
   "outputs": [],
   "source": [
    "issues"
   ]
  },
  {
   "cell_type": "code",
   "execution_count": null,
   "metadata": {},
   "outputs": [],
   "source": [
    "import matplotlib.pyplot as plt\n",
    "import matplotlib.patches as patches\n",
    "from matplotlib import dates\n",
    "import datetime\n",
    "\n",
    "%matplotlib inline\n",
    "\n",
    "plt.rcParams['figure.figsize'] = [16, 11]\n",
    "\n",
    "yticks = []\n",
    "ylabels = []\n",
    "\n",
    "plt.xticks(rotation=45)\n",
    "\n",
    "state_starts = []\n",
    "\n",
    "for id, issue in issues.items():\n",
    "    for state in issue['states']:\n",
    "        if state['state'] in state_colors:\n",
    "            state_starts.append((state['from'], id))\n",
    "            break\n",
    "\n",
    "state_starts.sort(reverse=True)\n",
    "\n",
    "for i, (_, id) in enumerate(state_starts):\n",
    "    issue = issues[id]\n",
    "    yticks.append(i)\n",
    "    ylabels.append(id)\n",
    "    for state in issue['states']:\n",
    "        color = state_colors.get(state['state'])\n",
    "        if color:\n",
    "            plt.gca().add_patch(\n",
    "                patches.Rectangle(\n",
    "                    (dates.date2num(state['from']), i-0.45),\n",
    "                    dates.date2num(state['to'] or datetime.datetime.now(datetime.timezone.utc)) - dates.date2num(state['from']),\n",
    "                    0.9,\n",
    "                    color=color)\n",
    "            )\n",
    "\n",
    "locator = dates.AutoDateLocator(interval_multiples=False)\n",
    "formatter = dates.AutoDateFormatter(locator)\n",
    "plt.gca().xaxis.set_major_locator(locator)\n",
    "plt.gca().xaxis.set_major_formatter(formatter)\n",
    "            \n",
    "plt.yticks(yticks, ylabels)\n",
    "plt.autoscale(True)\n",
    "plt.show()\n"
   ]
  },
  {
   "cell_type": "code",
   "execution_count": null,
   "metadata": {},
   "outputs": [],
   "source": []
  }
 ],
 "metadata": {
  "kernelspec": {
   "display_name": "Python 3",
   "language": "python",
   "name": "python3"
  },
  "language_info": {
   "codemirror_mode": {
    "name": "ipython",
    "version": 3
   },
   "file_extension": ".py",
   "mimetype": "text/x-python",
   "name": "python",
   "nbconvert_exporter": "python",
   "pygments_lexer": "ipython3",
   "version": "3.7.3"
  }
 },
 "nbformat": 4,
 "nbformat_minor": 2
}
