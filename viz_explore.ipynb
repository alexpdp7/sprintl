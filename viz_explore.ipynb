{
 "cells": [
  {
   "cell_type": "code",
   "execution_count": null,
   "metadata": {},
   "outputs": [],
   "source": [
    "input_dir = input()"
   ]
  },
  {
   "cell_type": "code",
   "execution_count": null,
   "metadata": {},
   "outputs": [],
   "source": [
    "state_colors = {\n",
    "    'In Progress':          '#aaffaa',\n",
    "    'Awaiting code review': '#66ff66',\n",
    "    'Ready to complete':    '#00ff00',\n",
    "    'Blocked - Internal':   '#ffff00',\n",
    "    'Blocked - External':   '#ff0000',\n",
    "}"
   ]
  },
  {
   "cell_type": "code",
   "execution_count": null,
   "metadata": {},
   "outputs": [],
   "source": [
    "import sprintl\n",
    "\n",
    "issues = sprintl.load(input_dir)"
   ]
  },
  {
   "cell_type": "code",
   "execution_count": null,
   "metadata": {},
   "outputs": [],
   "source": [
    "issues"
   ]
  },
  {
   "cell_type": "code",
   "execution_count": null,
   "metadata": {},
   "outputs": [],
   "source": [
    "import matplotlib.pyplot as plt\n",
    "import datetime\n",
    "\n",
    "%matplotlib widget\n",
    "\n",
    "yticks = []\n",
    "ylabels = []\n",
    "\n",
    "plt.xticks(rotation=70)\n",
    "\n",
    "for i, (id, issue) in enumerate(issues.items()):\n",
    "    yticks.append(i)\n",
    "    ylabels.append(id)\n",
    "    for state in issue['states']:\n",
    "        color = state_colors.get(state['state'])\n",
    "        if color:\n",
    "            plt.hlines(i, state['from'], state['to'] or datetime.datetime.now(), color)\n",
    "\n",
    "plt.yticks(yticks, ylabels)\n",
    "plt.show()\n"
   ]
  },
  {
   "cell_type": "code",
   "execution_count": null,
   "metadata": {},
   "outputs": [],
   "source": []
  }
 ],
 "metadata": {
  "kernelspec": {
   "display_name": "Python 3",
   "language": "python",
   "name": "python3"
  },
  "language_info": {
   "codemirror_mode": {
    "name": "ipython",
    "version": 3
   },
   "file_extension": ".py",
   "mimetype": "text/x-python",
   "name": "python",
   "nbconvert_exporter": "python",
   "pygments_lexer": "ipython3",
   "version": "3.7.3"
  }
 },
 "nbformat": 4,
 "nbformat_minor": 2
}
